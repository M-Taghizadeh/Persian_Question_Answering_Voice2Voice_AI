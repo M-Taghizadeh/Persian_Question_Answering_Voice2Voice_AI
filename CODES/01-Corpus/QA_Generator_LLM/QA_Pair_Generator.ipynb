{
  "cells": [
    {
      "cell_type": "code",
      "execution_count": 1,
      "metadata": {
        "id": "1Py01WAU-C_P"
      },
      "outputs": [
        {
          "name": "stderr",
          "output_type": "stream",
          "text": [
            "Cloning into 'question_generator'...\n"
          ]
        }
      ],
      "source": [
        "!git clone https://github.com/amontgomerie/question_generator"
      ]
    },
    {
      "cell_type": "code",
      "execution_count": 2,
      "metadata": {
        "id": "b1zYAcp1sBhZ"
      },
      "outputs": [],
      "source": [
        "text = \"Python is a high-level, general-purpose programming language. Its design philosophy emphasizes code readability with the use of significant indentation. Python is dynamically typed and garbage-collected. It supports multiple programming paradigms, including structured, object-oriented and functional programming \""
      ]
    },
    {
      "cell_type": "code",
      "execution_count": 3,
      "metadata": {
        "id": "S8c_3-8o-mbX"
      },
      "outputs": [],
      "source": [
        "text = \"The Iran-Iraq war or the eight-year war (in the literature of the Islamic Republic: the imposed war and the holy defense; in the Arab and Western sources: the First Persian Gulf War), which was called in Iraq by the name of Saddam's Qadisiyah, is the longest conventional war of the 20th century AD and the second It was the longest war of the century after the Vietnam War, which lasted nearly eight years. On September 22, 1980, the war turned into a full-scale war with the Iraqi air attack on ten airports and the attack of the Iraqi ground forces on all borders. According to the Iraqi authorities, the war started on 13 Shahrivar 1359 (September 4, 1980) and the heavy Iranian artillery attacks on the cities of Khanaqin and Mendali. The border conflicts started in early March 1357.\""
      ]
    },
    {
      "cell_type": "code",
      "execution_count": null,
      "metadata": {
        "id": "mBuNS1cDrnA_"
      },
      "outputs": [],
      "source": [
        "from question_generator.questiongenerator import QuestionGenerator\n",
        "qg = QuestionGenerator()"
      ]
    },
    {
      "cell_type": "code",
      "execution_count": 12,
      "metadata": {
        "colab": {
          "base_uri": "https://localhost:8080/"
        },
        "id": "9TXX3WEH9uYA",
        "outputId": "48eb07a7-4a43-4621-8181-edf700bf4047"
      },
      "outputs": [
        {
          "name": "stdout",
          "output_type": "stream",
          "text": [
            "Generating questions...\n",
            "\n",
            "Evaluating QA pairs...\n",
            "\n",
            "('\\nWas only able to generate 4 questions.', 'For more questions, please input a longer text.')\n"
          ]
        },
        {
          "data": {
            "text/plain": [
              "[{'question': 'What was the longest war of the 20th century AD?',\n",
              "  'answer': \"The Iran-Iraq war or the eight-year war (in the literature of the Islamic Republic: the imposed war and the holy defense; in the Arab and Western sources: the First Persian Gulf War), which was called in Iraq by the name of Saddam's Qadisiyah, is the longest conventional war of the 20th century AD and the second It was the longest war of the century after the Vietnam War, which lasted nearly eight years.\"},\n",
              " {'question': 'When did the war turn into a full-scale war?',\n",
              "  'answer': 'On September 22, 1980, the war turned into a full-scale war with the Iraqi air attack on ten airports and the attack of the Iraqi ground forces on all borders.'},\n",
              " {'question': 'When did the border conflicts start?',\n",
              "  'answer': 'The border conflicts started in early March 1357.'},\n",
              " {'question': 'When did the war start?',\n",
              "  'answer': 'According to the Iraqi authorities, the war started on 13 Shahrivar 1359 (September 4, 1980) and the heavy Iranian artillery attacks on the cities of Khanaqin and Mendali.'}]"
            ]
          },
          "execution_count": 12,
          "metadata": {},
          "output_type": "execute_result"
        }
      ],
      "source": [
        "qg.generate(text, num_questions=5, use_evaluator=True, answer_style='sentences')"
      ]
    }
  ],
  "metadata": {
    "accelerator": "GPU",
    "colab": {
      "gpuType": "T4",
      "provenance": []
    },
    "kernelspec": {
      "display_name": "Python 3",
      "name": "python3"
    },
    "language_info": {
      "codemirror_mode": {
        "name": "ipython",
        "version": 3
      },
      "file_extension": ".py",
      "mimetype": "text/x-python",
      "name": "python",
      "nbconvert_exporter": "python",
      "pygments_lexer": "ipython3",
      "version": "3.9.13"
    }
  },
  "nbformat": 4,
  "nbformat_minor": 0
}
