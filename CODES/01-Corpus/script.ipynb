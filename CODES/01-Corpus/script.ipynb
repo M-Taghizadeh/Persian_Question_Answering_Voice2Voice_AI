{
 "cells": [
  {
   "cell_type": "code",
   "execution_count": 8,
   "metadata": {},
   "outputs": [],
   "source": [
    "import pandas as pd\n",
    "\n",
    "# خواندن دیتاست اول\n",
    "df1 = pd.read_csv(\"Base_Corpus/train.csv\")\n",
    "\n",
    "# انتخاب فقط ستون‌های title، question، answer و context\n",
    "df1 = df1[['title', 'question', 'answer', 'context']]\n",
    "\n",
    "# خواندن دیتاست دوم\n",
    "df2 = pd.read_csv(\"Crawl_Wikipedia/filtered_iran_wikipedia_pages.csv\")\n",
    "\n",
    "# انتخاب فقط ستون‌های title، summary و url\n",
    "df2 = df2[['title', 'summary', 'url']]\n",
    "df2_new = pd.DataFrame(columns=['title', 'question', 'answer', 'context'])\n",
    "df2_new['title'] = df2['title']\n",
    "df2_new['question'] = df2['title']\n",
    "df2_new['answer'] = df2['summary']\n",
    "df2_new['context'] = df2['summary']\n",
    "df2_new = df2_new.dropna()\n",
    "\n",
    "# اضافه کردن دیتاست دوم به دیتاست اول (عمودی)\n",
    "merged_df = pd.concat([df1, df2_new])\n",
    "\n",
    "# ذخیره دیتاست ادغام شده در فایل CSV جدید\n",
    "merged_df.to_csv(f\"train_{round(len(merged_df['title']))}.csv\", index=False, encoding='utf-8-sig')"
   ]
  },
  {
   "cell_type": "code",
   "execution_count": 9,
   "metadata": {},
   "outputs": [],
   "source": [
    "df3 = pd.read_csv(\"Crawl_Wiki_Khomeini/crawl_wiki_khomeini.csv\")\n",
    "merged_df = pd.concat([merged_df, df3])\n",
    "merged_df.to_csv(f\"train_{round(len(merged_df['title']))}.csv\", index=False, encoding='utf-8-sig')"
   ]
  },
  {
   "cell_type": "code",
   "execution_count": 10,
   "metadata": {},
   "outputs": [],
   "source": [
    "df4 = pd.read_csv(\"Crawl_Wiki_Ahlolbait/دفاع مقدس.csv\")\n",
    "merged_df = pd.concat([merged_df, df4])\n",
    "merged_df.to_csv(f\"train_{round(len(merged_df['title']))}.csv\", index=False, encoding='utf-8-sig')"
   ]
  },
  {
   "cell_type": "code",
   "execution_count": 7,
   "metadata": {},
   "outputs": [],
   "source": [
    "df5 = pd.read_csv(\"Crawl_Wiki_Ahlolbait/Cleaned-Wiki-Ahlolbait.csv\")\n",
    "merged_df = pd.concat([merged_df, df5])\n",
    "merged_df.to_csv(f\"train_{round(len(merged_df['title']))}.csv\", index=False, encoding='utf-8-sig')"
   ]
  }
 ],
 "metadata": {
  "kernelspec": {
   "display_name": "Python 3",
   "language": "python",
   "name": "python3"
  },
  "language_info": {
   "codemirror_mode": {
    "name": "ipython",
    "version": 3
   },
   "file_extension": ".py",
   "mimetype": "text/x-python",
   "name": "python",
   "nbconvert_exporter": "python",
   "pygments_lexer": "ipython3",
   "version": "3.11.3"
  }
 },
 "nbformat": 4,
 "nbformat_minor": 2
}
