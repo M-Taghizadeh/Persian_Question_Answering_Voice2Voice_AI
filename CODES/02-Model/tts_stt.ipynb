{
 "cells": [
  {
   "cell_type": "code",
   "execution_count": null,
   "metadata": {},
   "outputs": [],
   "source": [
    "!pip install gtts pydub google-cloud-speech"
   ]
  },
  {
   "cell_type": "code",
   "execution_count": 2,
   "metadata": {},
   "outputs": [],
   "source": [
    "import pyttsx3\n",
    "\n",
    "def text_to_speech(text):\n",
    "    engine = pyttsx3.init()\n",
    "    engine.setProperty('rate', 150)  # سرعت گفتار\n",
    "    engine.setProperty('volume', 1)  # حجم گفتار\n",
    "    engine.say(text)\n",
    "    engine.runAndWait()\n",
    "\n",
    "text = \"سلام! این یک تست تبدیل متن به صدا است.\"\n",
    "text_to_speech(text)"
   ]
  },
  {
   "cell_type": "code",
   "execution_count": null,
   "metadata": {},
   "outputs": [],
   "source": [
    "import os\n",
    "import io\n",
    "from google.cloud import speech\n",
    "\n",
    "def speech_to_text(audio_file_path):\n",
    "    os.environ[\"GOOGLE_APPLICATION_CREDENTIALS\"] = \"path_to_your_service_account.json\"\n",
    "    \n",
    "    client = speech.SpeechClient()\n",
    "    \n",
    "    with io.open(audio_file_path, \"rb\") as audio_file:\n",
    "        content = audio_file.read()\n",
    "        \n",
    "    audio = speech.RecognitionAudio(content=content)\n",
    "    config = speech.RecognitionConfig(\n",
    "        encoding=speech.RecognitionConfig.AudioEncoding.LINEAR16,\n",
    "        sample_rate_hertz=16000,\n",
    "        language_code=\"fa-IR\",\n",
    "    )\n",
    "    \n",
    "    response = client.recognize(config=config, audio=audio)\n",
    "    \n",
    "    for result in response.results:\n",
    "        print(\"Transcript: {}\".format(result.alternatives[0].transcript))\n",
    "\n",
    "audio_file_path = \"path_to_your_audio_file.wav\"\n",
    "speech_to_text(audio_file_path)"
   ]
  }
 ],
 "metadata": {
  "kernelspec": {
   "display_name": "Python 3",
   "language": "python",
   "name": "python3"
  },
  "language_info": {
   "codemirror_mode": {
    "name": "ipython",
    "version": 3
   },
   "file_extension": ".py",
   "mimetype": "text/x-python",
   "name": "python",
   "nbconvert_exporter": "python",
   "pygments_lexer": "ipython3",
   "version": "3.11.3"
  }
 },
 "nbformat": 4,
 "nbformat_minor": 2
}
