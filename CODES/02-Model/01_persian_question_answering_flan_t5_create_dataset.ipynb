{
  "cells": [
    {
      "cell_type": "markdown",
      "metadata": {
        "id": "nPKzuFL8P9fs"
      },
      "source": [
        "## 1. Setup Development Environment\n",
        "\n"
      ]
    },
    {
      "cell_type": "code",
      "execution_count": null,
      "metadata": {
        "id": "SKkT6q4yP9fu"
      },
      "outputs": [],
      "source": [
        "!pip install googletrans==3.1.0a0 datasets"
      ]
    },
    {
      "cell_type": "markdown",
      "metadata": {
        "id": "CEcR1RUTBMr5"
      },
      "source": [
        "## Connect to Drive"
      ]
    },
    {
      "cell_type": "code",
      "execution_count": null,
      "metadata": {
        "id": "jPfcxpCc3_Bd"
      },
      "outputs": [],
      "source": [
        "import pandas as pd\n",
        "import matplotlib.pyplot as plt\n",
        "import os\n",
        "import re\n",
        "import glob\n",
        "from datasets import load_dataset\n",
        "import datasets"
      ]
    },
    {
      "cell_type": "code",
      "execution_count": null,
      "metadata": {
        "id": "15ch-0eH_rLe"
      },
      "outputs": [],
      "source": [
        "from google.colab import drive\n",
        "drive.mount('/content/drive')"
      ]
    },
    {
      "cell_type": "markdown",
      "metadata": {
        "id": "9JXYfgG05DU8"
      },
      "source": [
        "## Load Dataset"
      ]
    },
    {
      "cell_type": "code",
      "execution_count": null,
      "metadata": {
        "id": "oeyWDFh7HhS2"
      },
      "outputs": [],
      "source": [
        "def create_train_test(dataset):\n",
        "    questions, answers = [], []\n",
        "    for record in dataset['data']:\n",
        "        title = record['title']\n",
        "        paragraph = record['paragraphs'][0]\n",
        "        context = paragraph['context']\n",
        "        for q in paragraph['qas']:\n",
        "            question = q['question']\n",
        "            try: short_answer = q['answers'][0]['text']\n",
        "            except: short_answer = \"نامشخص\"\n",
        "            questions.append(question)\n",
        "            answers.append(f\"Title: {title}\\nShort Answer: {short_answer}\\nLong Answer: {context}\")\n",
        "    df = pd.DataFrame({'question': questions, 'answer': answers})\n",
        "    return df"
      ]
    },
    {
      "cell_type": "code",
      "execution_count": null,
      "metadata": {
        "id": "HKz8V1kRb974"
      },
      "outputs": [],
      "source": [
        "import json\n",
        "\n",
        "f = open('/content/drive/MyDrive/Corpus/PersianQA/pqa_train.json')\n",
        "train_set = json.load(f)\n",
        "f = open('/content/drive/MyDrive/Corpus/PersianQA/pqa_test.json')\n",
        "test_set = json.load(f)\n",
        "\n",
        "df_train = create_train_test(train_set)\n",
        "df_test = create_train_test(test_set)"
      ]
    },
    {
      "cell_type": "code",
      "execution_count": null,
      "metadata": {
        "id": "EvQQx8B5serF"
      },
      "outputs": [],
      "source": [
        "from datasets import Dataset, DatasetDict\n",
        "\n",
        "dataset = DatasetDict({\n",
        "    \"train\": Dataset.from_pandas(df_train),\n",
        "    \"test\": Dataset.from_pandas(df_test)\n",
        "})"
      ]
    },
    {
      "cell_type": "code",
      "execution_count": null,
      "metadata": {
        "colab": {
          "base_uri": "https://localhost:8080/"
        },
        "id": "M9HIXPRpJKOY",
        "outputId": "bd0c5f5e-4ded-4853-ae81-9d2825cdd072"
      },
      "outputs": [
        {
          "data": {
            "text/plain": [
              "DatasetDict({\n",
              "    train: Dataset({\n",
              "        features: ['question', 'answer'],\n",
              "        num_rows: 9008\n",
              "    })\n",
              "    test: Dataset({\n",
              "        features: ['question', 'answer'],\n",
              "        num_rows: 930\n",
              "    })\n",
              "})"
            ]
          },
          "execution_count": 8,
          "metadata": {},
          "output_type": "execute_result"
        }
      ],
      "source": [
        "dataset"
      ]
    },
    {
      "cell_type": "code",
      "execution_count": null,
      "metadata": {
        "id": "ZLQmaz7IwA4h"
      },
      "outputs": [],
      "source": [
        "# num_train_samples = 1000\n",
        "# num_test_samples = 100\n",
        "\n",
        "# train_dataset = dataset['train'].shuffle(seed=42).select(range(num_train_samples))\n",
        "# test_dataset = dataset['test'].shuffle(seed=42).select(range(num_test_samples))\n",
        "\n",
        "# dataset = DatasetDict({\n",
        "#     \"train\": train_dataset,\n",
        "#     \"test\": test_dataset\n",
        "# })\n",
        "# dataset"
      ]
    },
    {
      "cell_type": "code",
      "execution_count": null,
      "metadata": {
        "id": "n3l-8xkO2jSB"
      },
      "outputs": [],
      "source": [
        "import googletrans\n",
        "from googletrans import Translator\n",
        "\n",
        "translator = Translator()\n",
        "\n",
        "def translated_text(input_text):\n",
        "    translated = translator.translate(input_text, src='fa', dest='en')\n",
        "    return translated.text"
      ]
    },
    {
      "cell_type": "code",
      "execution_count": null,
      "metadata": {
        "id": "k7ug9Ri93pgK"
      },
      "outputs": [],
      "source": [
        "from tqdm import tqdm\n",
        "\n",
        "def translated_df(dataset):\n",
        "    questions, answers, questions_en, answers_en = [], [], [], []\n",
        "    for i in tqdm(range(len(dataset['question'])), desc=\"Translating...\"):\n",
        "        questions.append(dataset['question'][i])\n",
        "        answers.append(dataset['answer'][i])\n",
        "        questions_en.append(translated_text(dataset['question'][i]))\n",
        "        answers_en.append(translated_text(dataset['answer'][i]))\n",
        "    df = pd.DataFrame({'question': questions, 'answer': answers, 'question_en': questions_en, 'answer_en': answers_en})\n",
        "    return df"
      ]
    },
    {
      "cell_type": "code",
      "execution_count": null,
      "metadata": {
        "id": "L-TE7IanhHAB"
      },
      "outputs": [],
      "source": [
        "df_train = translated_df(dataset['train'])\n",
        "df_test = translated_df(dataset['test'])\n",
        "dataset = DatasetDict({\"train\": Dataset.from_pandas(df_train), \"test\": Dataset.from_pandas(df_test)})"
      ]
    },
    {
      "cell_type": "code",
      "execution_count": null,
      "metadata": {
        "colab": {
          "base_uri": "https://localhost:8080/",
          "height": 597
        },
        "id": "EOVuGiP0Jigk",
        "outputId": "67bbb41c-7c2f-4606-bae7-6a0708cd38cc"
      },
      "outputs": [
        {
          "data": {
            "application/vnd.google.colaboratory.intrinsic+json": {
              "summary": "{\n  \"name\": \"df_train\",\n  \"rows\": 9008,\n  \"fields\": [\n    {\n      \"column\": \"question\",\n      \"properties\": {\n        \"dtype\": \"string\",\n        \"num_unique_values\": 8989,\n        \"samples\": [\n          \"\\u0686\\u0647 \\u0645\\u0648\\u0642\\u0639\\u06cc \\u0632\\u0646\\u062f\\u06af\\u06cc \\u0628\\u062f\\u0648\\u0646 \\u0627\\u062c\\u0627\\u0642 \\u06af\\u0627\\u0632 \\u0628\\u0633\\u06cc\\u0627\\u0631 \\u0633\\u062e\\u062a \\u0627\\u0633\\u062a\\u061f\",\n          \"\\u067e\\u0648\\u06a9\\u0645\\u0648\\u0646 \\u06af\\u0648 \\u0686\\u06cc\\u0647\\u061f\",\n          \"\\u0635\\u0648\\u0645\\u0639\\u0647 \\u0686\\u0646\\u062f \\u06a9\\u06cc\\u0644\\u0648 \\u067e\\u0646\\u06cc\\u0631 \\u062a\\u0648\\u0644\\u06cc\\u062f \\u0645\\u06cc\\u06a9\\u0631\\u062f\\u061f\"\n        ],\n        \"semantic_type\": \"\",\n        \"description\": \"\"\n      }\n    },\n    {\n      \"column\": \"answer\",\n      \"properties\": {\n        \"dtype\": \"string\",\n        \"num_unique_values\": 7176,\n        \"samples\": [\n          \"Title: \\u0622\\u062a\\u0634\\u200c\\u0633\\u0648\\u0632\\u06cc \\u0648 \\u0631\\u06cc\\u0632\\u0634 \\u0633\\u0627\\u062e\\u062a\\u0645\\u0627\\u0646 \\u067e\\u0644\\u0627\\u0633\\u06a9\\u0648\\nShort Answer: \\u0645\\u0647\\u0627\\u0631 \\u0622\\u062a\\u0634\\u200c\\u0633\\u0648\\u0632\\u06cc\\nLong Answer: \\u0622\\u062a\\u0634\\u200c\\u0633\\u0648\\u0632\\u06cc \\u0648 \\u0631\\u06cc\\u0632\\u0634 \\u0633\\u0627\\u062e\\u062a\\u0645\\u0627\\u0646 \\u067e\\u0644\\u0627\\u0633\\u06a9\\u0648 \\u062d\\u0627\\u062f\\u062b\\u0647\\u200c\\u0627\\u06cc \\u0628\\u0648\\u062f \\u06a9\\u0647 \\u0635\\u0628\\u062d \\u0631\\u0648\\u0632 \\u067e\\u0646\\u062c\\u0634\\u0646\\u0628\\u0647 \\u06f3\\u06f0 \\u062f\\u06cc \\u06f1\\u06f3\\u06f9\\u06f5 \\u062f\\u0631 \\u0686\\u0647\\u0627\\u0631\\u0631\\u0627\\u0647 \\u0627\\u0633\\u062a\\u0627\\u0646\\u0628\\u0648\\u0644 \\u0648\\u0627\\u0642\\u0639 \\u062f\\u0631 \\u0645\\u0631\\u06a9\\u0632 \\u062a\\u0647\\u0631\\u0627\\u0646 \\u0631\\u062e \\u062f\\u0627\\u062f. \\u062f\\u0631 \\u067e\\u06cc \\u0648\\u0642\\u0648\\u0639 \\u0627\\u06cc\\u0646 \\u0622\\u062a\\u0634\\u200c\\u0633\\u0648\\u0632\\u06cc\\u060c \\u0633\\u0627\\u062e\\u062a\\u0645\\u0627\\u0646 \\u067e\\u0644\\u0627\\u0633\\u06a9\\u0648 \\u0628\\u0647\\u200c\\u0637\\u0648\\u0631 \\u06a9\\u0627\\u0645\\u0644 \\u0641\\u0631\\u0648 \\u0631\\u06cc\\u062e\\u062a. \\u0633\\u0627\\u062e\\u062a\\u0645\\u0627\\u0646 \\u067e\\u0644\\u0627\\u0633\\u06a9\\u0648 \\u062f\\u0631 \\u062d\\u0627\\u0644\\u06cc \\u067e\\u0633 \\u0627\\u0632 \\u06f3\\u066b\\u06f5 \\u0633\\u0627\\u0639\\u062a \\u0633\\u0648\\u062e\\u062a\\u0646\\u060c \\u0641\\u0631\\u0648 \\u0631\\u06cc\\u062e\\u062a \\u06a9\\u0647 \\u062a\\u0639\\u062f\\u0627\\u062f \\u0632\\u06cc\\u0627\\u062f\\u06cc \\u0645\\u0623\\u0645\\u0648\\u0631 \\u0622\\u062a\\u0634\\u200c\\u0646\\u0634\\u0627\\u0646\\u06cc \\u062f\\u0631 \\u062d\\u0627\\u0644 \\u0645\\u0647\\u0627\\u0631 \\u0622\\u062a\\u0634\\u200c\\u0633\\u0648\\u0632\\u06cc\\u060c \\u062f\\u0631 \\u0628\\u06cc\\u0631\\u0648\\u0646 \\u0648 \\u062f\\u0627\\u062e\\u0644 \\u0633\\u0627\\u062e\\u062a\\u0645\\u0627\\u0646 \\u0628\\u0648\\u062f\\u0646\\u062f \\u0648 \\u0639\\u062f\\u0647\\u200c\\u0627\\u06cc \\u0627\\u0632 \\u0622\\u0646\\u200c\\u0647\\u0627 \\u0632\\u06cc\\u0631 \\u0622\\u0648\\u0627\\u0631\\u0650 \\u0646\\u0627\\u0634\\u06cc \\u0627\\u0632 \\u0641\\u0631\\u0648 \\u0631\\u06cc\\u062e\\u062a\\u0646 \\u0633\\u0627\\u062e\\u062a\\u0645\\u0627\\u0646 \\u0645\\u0627\\u0646\\u062f\\u0646\\u062f \\u0648 \\u06a9\\u0634\\u062a\\u0647 \\u0634\\u062f\\u0646\\u062f. \\u0628\\u0646\\u0627\\u0628\\u0631 \\u06af\\u0632\\u0627\\u0631\\u0634 \\u0627\\u0648\\u0631\\u0698\\u0627\\u0646\\u0633 \\u062a\\u0647\\u0631\\u0627\\u0646\\u060c \\u0622\\u062e\\u0631\\u06cc\\u0646 \\u0622\\u0645\\u0627\\u0631 \\u0627\\u0639\\u0644\\u0627\\u0645\\u06cc \\u0627\\u0632 \\u062a\\u0639\\u062f\\u0627\\u062f \\u0645\\u0635\\u062f\\u0648\\u0645\\u0627\\u0646 \\u0627\\u06cc\\u0646 \\u062d\\u0627\\u062f\\u062b\\u0647 \\u06f2\\u06f3\\u06f5 \\u0646\\u0641\\u0631 \\u0628\\u0648\\u062f\\u0647\\u200c\\u0627\\u0633\\u062a. \\u06f1\\u06f8\\u06f1 \\u0646\\u0641\\u0631 \\u0627\\u0632 \\u0645\\u0635\\u062f\\u0648\\u0645\\u0627\\u0646 \\u0628\\u0647 \\u0635\\u0648\\u0631\\u062a \\u0633\\u0631\\u067e\\u0627\\u06cc\\u06cc \\u062a\\u062d\\u062a \\u062f\\u0631\\u0645\\u0627\\u0646 \\u0642\\u0631\\u0627\\u0631 \\u06af\\u0631\\u0641\\u062a\\u0646\\u062f \\u0648 \\u06f5\\u06f5 \\u0646\\u0641\\u0631 \\u062f\\u06cc\\u06af\\u0631 \\u0646\\u06cc\\u0632 \\u0628\\u0647 \\u0628\\u06cc\\u0645\\u0627\\u0631\\u0633\\u062a\\u0627\\u0646 \\u0645\\u0646\\u062a\\u0642\\u0644 \\u0634\\u062f\\u0646\\u062f \\u06a9\\u0647 \\u06cc\\u06a9 \\u0646\\u0641\\u0631 \\u0627\\u0632 \\u0622\\u0646\\u200c\\u0647\\u0627 \\u0641\\u0648\\u062a \\u06a9\\u0631\\u062f. \\u06f5\\u06f2 \\u0646\\u0641\\u0631 \\u0646\\u06cc\\u0632 \\u067e\\u0633 \\u0627\\u0632 \\u0628\\u0633\\u062a\\u0631\\u06cc \\u062f\\u0631 \\u0628\\u06cc\\u0645\\u0627\\u0631\\u0633\\u062a\\u0627\\u0646 \\u0648 \\u062f\\u0631\\u06cc\\u0627\\u0641\\u062a \\u062e\\u062f\\u0645\\u0627\\u062a \\u062f\\u0631\\u0645\\u0627\\u0646\\u06cc \\u0644\\u0627\\u0632\\u0645\\u060c \\u062a\\u0631\\u062e\\u06cc\\u0635 \\u0634\\u062f\\u0646\\u062f. \\u0622\\u0645\\u0627\\u0631\\u0647\\u0627\\u06cc \\u0645\\u062a\\u0641\\u0627\\u0648\\u062a\\u06cc \\u062f\\u0631 \\u0645\\u0648\\u0631\\u062f \\u0645\\u0641\\u0642\\u0648\\u062f \\u0634\\u062f\\u06af\\u0627\\u0646 \\u0648\\u062c\\u0648\\u062f \\u062f\\u0627\\u0631\\u062f \\u0627\\u0645\\u0627 \\u0627\\u06a9\\u062b\\u0631 \\u0627\\u06cc\\u0646 \\u0622\\u0645\\u0627\\u0631 \\u0628\\u06cc\\u0646 \\u06f2\\u06f0 \\u062a\\u0627 \\u06f3\\u06f0 \\u062a\\u0646 \\u0627\\u0633\\u062a. \\u0645\\u0639\\u0627\\u0648\\u0646 \\u0627\\u0645\\u0646\\u06cc\\u062a\\u06cc \\u0627\\u0633\\u062a\\u0627\\u0646\\u062f\\u0627\\u0631\\u06cc \\u062a\\u0647\\u0631\\u0627\\u0646 \\u0633\\u0647\\u0644\\u200c\\u0627\\u0646\\u06af\\u0627\\u0631\\u06cc \\u0627\\u0646\\u0633\\u0627\\u0646\\u06cc \\u0631\\u0627 \\u0639\\u0627\\u0645\\u0644 \\u0622\\u062a\\u0634\\u200c\\u0633\\u0648\\u0632\\u06cc \\u0627\\u06cc\\u0646 \\u0645\\u062c\\u062a\\u0645\\u0639 \\u062f\\u0627\\u0646\\u0633\\u062a \\u0648 \\u0628\\u0647 \\u06af\\u0632\\u0627\\u0631\\u0634\\u200c\\u0647\\u0627\\u06cc \\u0622\\u062a\\u0634\\u200c\\u0646\\u0634\\u0627\\u0646\\u0627\\u0646 \\u062f\\u0631 \\u0633\\u0627\\u0639\\u0627\\u062a \\u0627\\u0648\\u0644\\u06cc\\u0647 \\u0627\\u0634\\u0627\\u0631\\u0647 \\u06a9\\u0631\\u062f \\u06a9\\u0647 \\u0627\\u062a\\u0635\\u0627\\u0644 \\u0633\\u06cc\\u0645\\u200c\\u0647\\u0627\\u06cc \\u0628\\u0631\\u0642 \\u06cc\\u0627 \\u0631\\u0648\\u0634\\u0646 \\u0628\\u0648\\u062f\\u0646 \\u06af\\u0627\\u0632 \\u067e\\u06cc\\u06a9\\u200c\\u0646\\u06cc\\u06a9\\u06cc \\u0631\\u0627 \\u0639\\u0627\\u0645\\u0644 \\u0622\\u063a\\u0627\\u0632 \\u0622\\u062a\\u0634\\u200c\\u0633\\u0648\\u0632\\u06cc \\u0639\\u0646\\u0648\\u0627\\u0646 \\u06a9\\u0631\\u062f\\u0646\\u062f.\",\n          \"Title: \\u06a9\\u0627\\u0631\\u06af\\u0631\\u062f\\u0627\\u0646 \\u0641\\u06cc\\u0644\\u0645\\nShort Answer: \\u06a9\\u0627\\u0631\\u06af\\u0631\\u062f\\u0627\\u0646 \\u0627\\u0635\\u0644\\u06cc\\u200c\\u062a\\u0631\\u06cc\\u0646 \\u0639\\u0627\\u0645\\u0644 \\u062a\\u0628\\u062f\\u06cc\\u0644 \\u0634\\u062f\\u0646 \\u06cc\\u06a9 \\u0641\\u06cc\\u0644\\u0645\\u200c\\u0646\\u0627\\u0645\\u0647 \\u0628\\u0647 \\u06cc\\u06a9 \\u0641\\u06cc\\u0644\\u0645 \\u0633\\u06cc\\u0646\\u0645\\u0627\\u06cc\\u06cc \\u06cc\\u0627 \\u0641\\u06cc\\u0644\\u0645 \\u062a\\u0644\\u0648\\u06cc\\u0632\\u06cc\\u0648\\u0646\\u06cc \\u0627\\u0633\\u062a.\\nLong Answer: \\u06a9\\u0627\\u0631\\u06af\\u0631\\u062f\\u0627\\u0646 \\u0627\\u0635\\u0644\\u06cc\\u200c\\u062a\\u0631\\u06cc\\u0646 \\u0639\\u0627\\u0645\\u0644 \\u062a\\u0628\\u062f\\u06cc\\u0644 \\u0634\\u062f\\u0646 \\u06cc\\u06a9 \\u0641\\u06cc\\u0644\\u0645\\u200c\\u0646\\u0627\\u0645\\u0647 \\u0628\\u0647 \\u06cc\\u06a9 \\u0641\\u06cc\\u0644\\u0645 \\u0633\\u06cc\\u0646\\u0645\\u0627\\u06cc\\u06cc \\u06cc\\u0627 \\u0641\\u06cc\\u0644\\u0645 \\u062a\\u0644\\u0648\\u06cc\\u0632\\u06cc\\u0648\\u0646\\u06cc \\u0627\\u0633\\u062a. \\u0628\\u0647 \\u0647\\u0645\\u06cc\\u0646 \\u062f\\u0644\\u06cc\\u0644 \\u0627\\u0633\\u062a \\u06a9\\u0647 \\u0647\\u0645\\u0648\\u0627\\u0631\\u0647\\u060c \\u06cc\\u06a9 \\u0627\\u062b\\u0631 \\u062a\\u0635\\u0648\\u06cc\\u0631 \\u0645\\u062a\\u062d\\u0631\\u06a9 \\u0631\\u0627\\u060c \\u0628\\u0647 \\u0646\\u0627\\u0645 \\u06a9\\u0627\\u0631\\u06af\\u0631\\u062f\\u0627\\u0646 \\u0622\\u0646 \\u0645\\u06cc\\u200c\\u0634\\u0646\\u0627\\u0633\\u0646\\u062f. \\u0645\\u0647\\u0645\\u200c\\u062a\\u0631\\u06cc\\u0646 \\u06a9\\u0627\\u0631\\u06cc \\u06a9\\u0647 \\u06cc\\u06a9 \\u06a9\\u0627\\u0631\\u06af\\u0631\\u062f\\u0627\\u0646 \\u062f\\u0631 \\u062c\\u0631\\u06cc\\u0627\\u0646 \\u0633\\u0627\\u062e\\u062a \\u06cc\\u06a9 \\u0627\\u062b\\u0631 \\u062a\\u0635\\u0648\\u06cc\\u0631 \\u0645\\u062a\\u062d\\u0631\\u06a9 \\u0627\\u0646\\u062c\\u0627\\u0645 \\u0645\\u06cc\\u200c\\u062f\\u0647\\u062f\\u060c \\u062d\\u0641\\u0638 \\u062a\\u0645 \\u0627\\u0635\\u0644\\u06cc \\u06a9\\u0627\\u0631 \\u062f\\u0631 \\u0637\\u06cc \\u0645\\u0631\\u0627\\u062d\\u0644 \\u0633\\u0647\\u200c\\u06af\\u0627\\u0646\\u0647\\u0654 \\u067e\\u06cc\\u0634 \\u062a\\u0648\\u0644\\u06cc\\u062f\\u060c \\u062a\\u0648\\u0644\\u06cc\\u062f \\u0648 \\u067e\\u0633\\u200c\\u062a\\u0648\\u0644\\u06cc\\u062f \\u0627\\u0633\\u062a. \\u06a9\\u0627\\u0631\\u06af\\u0631\\u062f\\u0627\\u0646\\u060c \\u067e\\u0633 \\u0627\\u0632 \\u0645\\u0637\\u0627\\u0644\\u0639\\u0647\\u0654 \\u0641\\u06cc\\u0644\\u0645\\u200c\\u0646\\u0627\\u0645\\u0647 \\u0622\\u0646 \\u0631\\u0627 \\u062e\\u0631\\u062f \\u06a9\\u0631\\u062f\\u0647 \\u0648 \\u0628\\u0647 \\u0642\\u0637\\u0639\\u0627\\u062a \\u06a9\\u0648\\u0686\\u06a9\\u06cc \\u0628\\u0647 \\u0646\\u0627\\u0645 \\u0633\\u06a9\\u0627\\u0646\\u0633\\u060c \\u0635\\u062d\\u0646\\u0647 \\u0648 \\u067e\\u0644\\u0627\\u0646 \\u062a\\u0628\\u062f\\u06cc\\u0644 \\u0645\\u06cc\\u200c\\u06a9\\u0646\\u062f \\u0648 \\u0645\\u062a\\u0646\\u06cc \\u0628\\u0627 \\u0639\\u0646\\u0648\\u0627\\u0646 \\u062f\\u06a9\\u0648\\u067e\\u0627\\u0698 \\u062a\\u0647\\u06cc\\u0647 \\u0645\\u06cc\\u200c\\u06a9\\u0646\\u062f. \\u0627\\u06cc\\u0646 \\u0645\\u062a\\u0646\\u060c \\u062f\\u0633\\u062a\\u0648\\u0631 \\u0627\\u0644\\u0639\\u0645\\u0644\\u06cc \\u0627\\u0633\\u062a \\u0628\\u0631\\u0627\\u06cc \\u0647\\u0645\\u0647\\u200c\\u06cc \\u0639\\u0648\\u0627\\u0645\\u0644 \\u0633\\u0627\\u0632\\u0646\\u062f\\u06c0 \\u0641\\u06cc\\u0644\\u0645 \\u06a9\\u0647 \\u062f\\u0631 \\u0622\\u0646 \\u062a\\u0645\\u0627\\u0645\\u06cc \\u062c\\u0632\\u0626\\u06cc\\u0627\\u062a \\u067e\\u0644\\u0627\\u0646 \\u0627\\u0632 \\u0642\\u0628\\u06cc\\u0644 \\u0632\\u0627\\u0648\\u06cc\\u0647 \\u062f\\u0648\\u0631\\u0628\\u06cc\\u0646\\u060c \\u0627\\u0646\\u062f\\u0627\\u0632\\u0647\\u200c\\u0646\\u0645\\u0627\\u060c \\u062d\\u0631\\u06a9\\u062a \\u0648 \\u06af\\u0641\\u062a\\u0627\\u0631 \\u0647\\u0646\\u0631\\u067e\\u06cc\\u0634\\u0647\\u060c \\u0646\\u0648\\u0631\\u060c \\u0632\\u0645\\u0627\\u0646\\u060c \\u0645\\u06a9\\u0627\\u0646 \\u0648 \\u2026 \\u0646\\u0648\\u0634\\u062a\\u0647 \\u0634\\u062f\\u0647\\u200c\\u0627\\u0633\\u062a. \\u06a9\\u0627\\u0631\\u06af\\u0631\\u062f\\u0627\\u0646 \\u0628\\u0627\\u06cc\\u062f \\u0628\\u0647 \\u0627\\u0635\\u0648\\u0644 \\u0648 \\u0642\\u0648\\u0627\\u0639\\u062f \\u062a\\u0645\\u0627\\u0645\\u06cc \\u0645\\u0631\\u0627\\u062d\\u0644 \\u062a\\u0648\\u0644\\u06cc\\u062f \\u0645\\u0633\\u0644\\u0637 \\u0628\\u0627\\u0634\\u062f \\u062a\\u0627 \\u0628\\u0647 \\u062e\\u0648\\u0628\\u06cc \\u0628\\u062a\\u0648\\u0627\\u0646\\u062f \\u06af\\u0631\\u0648\\u0647 \\u0631\\u0627 \\u0631\\u0647\\u0628\\u0631\\u06cc \\u06a9\\u0646\\u062f \\u0648 \\u0628\\u0647 \\u0646\\u062a\\u06cc\\u062c\\u0647\\u200c\\u06cc \\u0645\\u0637\\u0644\\u0648\\u0628 \\u0628\\u0631\\u0633\\u0627\\u0646\\u062f. \\u0627\\u0635\\u0648\\u0644 \\u0642\\u0627\\u0628\\u200c\\u0628\\u0646\\u062f\\u06cc\\u060c \\u0631\\u06cc\\u062a\\u0645\\u060c \\u062a\\u062f\\u0627\\u0648\\u0645 \\u062d\\u0631\\u06a9\\u062a\\u060c \\u0635\\u062f\\u0627 \\u0648 \\u062a\\u0635\\u0648\\u06cc\\u0631 \\u0627\\u0632 \\u062c\\u0645\\u0644\\u0647 \\u0642\\u0648\\u0627\\u0639\\u062f\\u06cc \\u0647\\u0633\\u062a\\u0646\\u062f \\u06a9\\u0647 \\u06a9\\u0627\\u0631\\u06af\\u0631\\u062f\\u0627\\u0646 \\u0628\\u0631\\u0627\\u06cc \\u062f\\u06a9\\u0648\\u067e\\u0627\\u0698 \\u0628\\u0647 \\u06a9\\u0627\\u0631 \\u0645\\u06cc\\u200c\\u06af\\u06cc\\u0631\\u062f. \\u0627\\u06cc\\u0646 \\u0642\\u0648\\u0627\\u0639\\u062f \\u0647\\u0646\\u0631\\u06cc \\u0628\\u0631 \\u062e\\u0644\\u0627\\u0641 \\u0627\\u0635\\u0648\\u0644 \\u0639\\u0644\\u0648\\u0645 \\u0637\\u0628\\u06cc\\u0639\\u06cc \\u0686\\u0646\\u062f\\u0627\\u0646 \\u062b\\u0627\\u0628\\u062a \\u0648 \\u063a\\u06cc\\u0631\\u0642\\u0627\\u0628\\u0644 \\u062a\\u063a\\u06cc\\u06cc\\u0631 \\u0646\\u06cc\\u0633\\u062a\\u0646\\u062f \\u0628\\u0644\\u06a9\\u0647 \\u062d\\u0627\\u0635\\u0644 \\u062a\\u062c\\u0631\\u0628\\u06cc\\u0627\\u062a \\u0648 \\u062a\\u0631\\u062c\\u06cc\\u062d\\u0627\\u062a \\u06a9\\u0627\\u0631\\u06af\\u0631\\u062f\\u0627\\u0646\\u0627\\u0646 \\u067e\\u06cc\\u0634\\u06cc\\u0646 \\u0628\\u0648\\u062f\\u0647 \\u0648 \\u0628\\u0631 \\u0627\\u0633\\u0627\\u0633 \\u0646\\u0648\\u0639 \\u0646\\u06af\\u0631\\u0634 \\u0648 \\u0633\\u0628\\u06a9 \\u0647\\u0646\\u0631\\u06cc \\u0641\\u06cc\\u0644\\u0645\\u200c\\u0633\\u0627\\u0632\\u060c \\u0645\\u062a\\u063a\\u06cc\\u0631 \\u0645\\u06cc\\u200c\\u0628\\u0627\\u0634\\u0646\\u062f.\",\n          \"Title: \\u0645\\u062e\\u0627\\u0644\\u0641\\u062a \\u0628\\u0627 \\u0628\\u0631\\u062f\\u06af\\u06cc\\nShort Answer: \\u06cc\\u06a9 \\u0633\\u06cc\\u0633\\u062a\\u0645\\u0650 \\u0642\\u0627\\u0646\\u0648\\u0646\\u06cc \\u0648 \\u0628\\u0647 \\u0631\\u0633\\u0645\\u06cc\\u062a \\u0634\\u0646\\u0627\\u062e\\u062a\\u0647 \\u0628\\u0648\\u062f\\nLong Answer: \\u0645\\u062e\\u0627\\u0644\\u0641\\u062a \\u0628\\u0627 \\u0628\\u0631\\u062f\\u06af\\u06cc \\u0646\\u0627\\u0645 \\u062c\\u0646\\u0628\\u0634\\u06cc \\u0628\\u0648\\u062f \\u06a9\\u0647 \\u0628\\u0631\\u0627\\u06cc \\u067e\\u0627\\u06cc\\u0627\\u0646 \\u062f\\u0627\\u062f\\u0646 \\u0628\\u0647 \\u062a\\u062c\\u0627\\u0631\\u062a \\u0628\\u0631\\u062f\\u0647 \\u0648 \\u0622\\u0632\\u0627\\u062f\\u0633\\u0627\\u0632\\u06cc \\u0628\\u0631\\u062f\\u06af\\u0627\\u0646 \\u0627\\u0632 \\u0632\\u06cc\\u0631 \\u06cc\\u0648\\u063a \\u0648 \\u0627\\u0633\\u0627\\u0631\\u062a \\u062f\\u0631 \\u0622\\u0645\\u0631\\u06cc\\u06a9\\u0627 \\u0648 \\u063a\\u0631\\u0628 \\u0627\\u0631\\u0648\\u067e\\u0627 \\u0634\\u06a9\\u0644 \\u06af\\u0631\\u0641\\u062a. \\u0628\\u0631\\u062f\\u0647 \\u062f\\u0627\\u0631\\u06cc \\u06cc\\u06a9 \\u0633\\u06cc\\u0633\\u062a\\u0645\\u0650 \\u0642\\u0627\\u0646\\u0648\\u0646\\u06cc \\u0648 \\u0628\\u0647 \\u0631\\u0633\\u0645\\u06cc\\u062a \\u0634\\u0646\\u0627\\u062e\\u062a\\u0647 \\u0628\\u0648\\u062f \\u06a9\\u0647 \\u062f\\u0631 \\u0622\\u0646 \\u0627\\u0646\\u0633\\u0627\\u0646\\u200c\\u0647\\u0627 \\u0628\\u0647\\u200c\\u0634\\u06a9\\u0644\\u0650 \\u0642\\u0627\\u0646\\u0648\\u0646\\u06cc\\u060c \\u0645\\u0644\\u06a9 \\u06cc\\u0627 \\u062f\\u0627\\u0631\\u0627\\u06cc\\u06cc \\u062f\\u0631 \\u0646\\u0638\\u0631 \\u06af\\u0631\\u0641\\u062a\\u0647 \\u0645\\u06cc\\u200c\\u0634\\u062f\\u0646\\u062f. \\u0628\\u0631\\u062f\\u0647 \\u0686\\u0646\\u062f\\u06cc\\u0646 \\u062d\\u0642 \\u062f\\u0627\\u0634\\u062a \\u0648 \\u0645\\u06cc\\u200c\\u0634\\u062f \\u0648\\u06cc \\u0631\\u0627 \\u062e\\u0631\\u06cc\\u062f\\u0627\\u0631\\u06cc \\u06a9\\u0631\\u062f\\u0647 \\u06cc\\u0627 \\u0641\\u0631\\u0648\\u062e\\u062a \\u0648 \\u0645\\u062c\\u0628\\u0648\\u0631 \\u0628\\u0647 \\u06a9\\u0627\\u0631 \\u0628\\u0631\\u0627\\u06cc \\u0645\\u0627\\u0644\\u06a9\\u0650 \\u0628\\u0631\\u062f\\u0647\\u060c \\u0628\\u062f\\u0648\\u0646\\u0650 \\u0647\\u0631 \\u06af\\u0648\\u0646\\u0647 \\u062d\\u0642\\u0650 \\u0627\\u0646\\u062a\\u062e\\u0627\\u0628 (\\u0628\\u0647 \\u0627\\u062c\\u0628\\u0627\\u0631) \\u06cc\\u0627 \\u062f\\u0633\\u062a\\u0645\\u0632\\u062f \\u0645\\u06cc\\u200c\\u06a9\\u0631\\u062f\\u0646\\u062f. \\u062f\\u0631 \\u0645\\u0633\\u062a\\u0639\\u0645\\u0631\\u0627\\u062a \\u0622\\u0645\\u0631\\u06cc\\u06a9\\u0627\\u06cc\\u06cc \\u0648 \\u062f\\u06cc\\u06af\\u0631 \\u0646\\u0642\\u0627\\u0637\\u060c \\u0627\\u063a\\u0644\\u0628 \\u0641\\u0631\\u0632\\u0646\\u062f\\u0627\\u0646\\u0650 \\u06cc\\u06a9 \\u0645\\u0627\\u062f\\u0631\\u0650 \\u0628\\u0631\\u062f\\u0647\\u060c \\u0628\\u0639\\u0646\\u0648\\u0627\\u0646\\u0650 \\u0628\\u0631\\u062f\\u0647 \\u0634\\u0646\\u0627\\u062e\\u062a\\u0647 \\u0634\\u062f\\u0647 \\u0648 \\u0628\\u0647\\u200c\\u0634\\u06a9\\u0644\\u0650 \\u0628\\u0631\\u062f\\u0647 \\u0628\\u0647 \\u062f\\u0646\\u06cc\\u0627 \\u0645\\u06cc\\u200c\\u0622\\u0645\\u062f\\u0646\\u062f. \\u0628\\u0627 \\u0627\\u0639\\u062a\\u0631\\u0627\\u0636\\u0627\\u062a \\u06a9\\u0634\\u06cc\\u0634 \\u062f\\u0648\\u0645\\u06cc\\u0646\\u06cc\\u06a9\\u0646\\u06cc \\u0628\\u0627\\u0631\\u062a\\u0648\\u0644\\u0648\\u0645\\u0647 \\u062f \\u0644\\u0627\\u0633 \\u06a9\\u0627\\u0633\\u0627\\u0633 \\u06a9\\u0647 \\u0627\\u0632 \\u0634\\u06cc\\u0648\\u0647 \\u0628\\u0631\\u062e\\u0648\\u0631\\u062f \\u0628\\u0627 \\u0628\\u0631\\u062f\\u06af\\u0627\\u0646 \\u062f\\u0631 \\u062f\\u0646\\u06cc\\u0627\\u06cc \\u0646\\u0648 \\u0634\\u0648\\u06a9\\u0647 \\u0634\\u062f\\u0647 \\u0628\\u0648\\u062f\\u060c \\u0627\\u0633\\u067e\\u0627\\u0646\\u06cc\\u0627 \\u0646\\u062e\\u0633\\u062a\\u06cc\\u0646 \\u0642\\u0627\\u0646\\u0648\\u0646 \\u0627\\u0644\\u063a\\u0627\\u0621 \\u0628\\u0631\\u062f\\u0647 \\u062f\\u0627\\u0631\\u06cc \\u062f\\u0631 \\u0645\\u0633\\u062a\\u0639\\u0645\\u0631\\u0627\\u062a \\u0631\\u0627 \\u062f\\u0631 \\u0633\\u0627\\u0644 \\u06f1\\u06f5\\u06f4\\u06f2 \\u0628\\u0647 \\u0627\\u062c\\u0631\\u0627 \\u06af\\u0630\\u0627\\u0634\\u062a \\u0648\\u0644\\u06cc \\u0645\\u062c\\u0628\\u0648\\u0631 \\u0628\\u0647 \\u062a\\u0636\\u0639\\u06cc\\u0641 \\u0627\\u06cc\\u0646 \\u0642\\u0627\\u0646\\u0648\\u0646 \\u062a\\u0627 \\u0633\\u0627\\u0644 \\u06f1\\u06f5\\u06f4\\u06f5 \\u0634\\u062f. \\u0646\\u0638\\u0627\\u0645 \\u0628\\u0631\\u062f\\u0647\\u200c\\u062f\\u0627\\u0631\\u06cc \\u062a\\u0627 \\u0642\\u0631\\u0646 \\u06f1\\u06f8 \\u0627\\u0639\\u062a\\u0631\\u0627\\u0636\\u0627\\u062a \\u06a9\\u0645\\u06cc \\u0631\\u0627 \\u0628\\u0631\\u0627\\u0646\\u06af\\u06cc\\u062e\\u062a. \\u062f\\u0631 \\u0627\\u06cc\\u0646 \\u0642\\u0631\\u0646 \\u0645\\u062a\\u0641\\u06a9\\u0631\\u0627\\u0646 \\u0639\\u0635\\u0631 \\u0631\\u0648\\u0634\\u0646\\u06af\\u0631\\u06cc \\u0648 \\u0645\\u0639\\u062a\\u0642\\u062f\\u0627\\u0646 \\u0628\\u0647 \\u0641\\u0644\\u0633\\u0641\\u0647 \\u0639\\u0642\\u0644\\u0627\\u0646\\u06cc \\u0628\\u0631\\u062f\\u0647\\u200c\\u062f\\u0627\\u0631\\u06cc \\u0631\\u0627 \\u0628\\u0647 \\u062f\\u0644\\u06cc\\u0644 \\u0646\\u0642\\u0636 \\u062d\\u0642\\u0648\\u0642 \\u0627\\u0646\\u0633\\u0627\\u0646\\u06cc \\u0645\\u0648\\u0631\\u062f \\u0627\\u0646\\u062a\\u0642\\u0627\\u062f \\u0642\\u0631\\u0627\\u0631 \\u062f\\u0627\\u062f\\u0646\\u062f. \\u0633\\u067e\\u0633 \\u0627\\u0639\\u0636\\u0627\\u06cc \\u0641\\u0631\\u0642\\u0647 \\u0645\\u0630\\u0647\\u0628\\u06cc \\u06a9\\u0648\\u06cc\\u06a9\\u0631 \\u0648 \\u062f\\u06cc\\u06af\\u0631 \\u0645\\u0630\\u0627\\u0647\\u0628 \\u0627\\u0646\\u062c\\u06cc\\u0644\\u06cc \\u0646\\u06cc\\u0632 \\u0628\\u0631\\u062f\\u0647\\u200c\\u062f\\u0627\\u0631\\u06cc \\u0631\\u0627 \\u0628\\u0647 \\u0639\\u0646\\u0648\\u0627\\u0646 \\u0639\\u0645\\u0644\\u06cc \\u063a\\u06cc\\u0631 \\u0645\\u0633\\u06cc\\u062d\\u06cc \\u0645\\u062d\\u06a9\\u0648\\u0645 \\u06a9\\u0631\\u062f\\u0646\\u062f.\"\n        ],\n        \"semantic_type\": \"\",\n        \"description\": \"\"\n      }\n    },\n    {\n      \"column\": \"question_en\",\n      \"properties\": {\n        \"dtype\": \"string\",\n        \"num_unique_values\": 8958,\n        \"samples\": [\n          \"What is the title of conductor in the world?\",\n          \"What does circulating money mean?\",\n          \"What does God mean?\"\n        ],\n        \"semantic_type\": \"\",\n        \"description\": \"\"\n      }\n    },\n    {\n      \"column\": \"answer_en\",\n      \"properties\": {\n        \"dtype\": \"string\",\n        \"num_unique_values\": 7173,\n        \"samples\": [\n          \"Title: Alireza Debir\\nShort Answer: Koi Sizdeh Aban neighborhood, Ray city\\nLong Answer: Alireza Debir (born on 25 Shahrivar 1356 in Koi Sizdeh Aban neighborhood, Ray city) is a former Iranian wrestler. He is the champion of Sydney Olympics and World Wrestling Championships in freestyle wrestling. The secretary was a member of the third and fourth terms of Tehran City Council from 2005 to 2016. He is the only son in the family and has three sisters. Alireza Dabir registered in Sadri wrestling club on 25 September 1367 when he weighed only 24 kilos and was 11 years old. His first close encounter with Akbar Fallah (former wrestler) also happened in this club. Debir says: \\\"It was a year after the Seoul Olympics that I was training in the gym. I noticed the presence of Akbar Fallah in the hall. Seeing the way I wrestled, he told the coach of the club: \\\"This little boy is going to be a good wrestler.\\\" Alireza Debir started his studies in the field of business management and finished with a doctorate in human resources management from Shahid Beheshti University. He is currently a member of the Faculty of Management and Accounting of Allameh Tabatabai University with the academic rank of Assistant Professor.\",\n          \"Title: Gas stove\\nShort Answer: Uncertain\\nLong Answer: A gas stove or gas boiler is a cooking device that uses flammable gas such as natural gas, propane or butane as fuel. Although the use of gas stoves is not very old, today gas stoves are one of the most essential household appliances and living without them is difficult, especially in big cities. The gas stove is also one of the main vertices of the work triangle in the kitchen. Normally, a modern oven consists of these components. Body, insulation, manifolds, valves, nozzles, housing or connecting pipes, burners, spark plug, thermocouple, lighter, thermostat, temperature setting, alarm clock and rotator. Gas stoves are divided into three categories: desktop gas stoves, built-in gas stoves, and furnished gas stoves. In the plate gas stove, the gas and oven are separate and each must be purchased separately, so we will have more variety in the choice of gas stove and oven, and another positive point is that the built-in gas stove occupies less space than the furnished gas stove. he does. The desktop gas stove is the cheapest type of gas stove;\",\n          \"Title: Ph.D\\nShort Answer: Uncertain\\nLong Answer: Doctorate is the highest academic degree and equivalent to PhD degree in American and European universities. In technical engineering fields, basic sciences and humanities, obtaining a diploma (certificate) at the specialized doctorate level usually requires between 4 and 6 years of study and research after the master's degree and presenting an innovation in the form of a doctoral thesis. \\\"Doctorate\\\" is a French word derived from Latin and means the rank or position of theorist-opinionist. In Iran, a major part of the admission to the doctorate course takes place through the holding of a specialized doctorate exam by the Ministry of Science, Research and Technology and the Ministry of Health, Treatment and Medical Education.\"\n        ],\n        \"semantic_type\": \"\",\n        \"description\": \"\"\n      }\n    }\n  ]\n}",
              "type": "dataframe",
              "variable_name": "df_train"
            },
            "text/html": [
              "\n",
              "  <div id=\"df-d984b2aa-74b1-495a-b1d1-3ddab3d693e9\" class=\"colab-df-container\">\n",
              "    <div>\n",
              "<style scoped>\n",
              "    .dataframe tbody tr th:only-of-type {\n",
              "        vertical-align: middle;\n",
              "    }\n",
              "\n",
              "    .dataframe tbody tr th {\n",
              "        vertical-align: top;\n",
              "    }\n",
              "\n",
              "    .dataframe thead th {\n",
              "        text-align: right;\n",
              "    }\n",
              "</style>\n",
              "<table border=\"1\" class=\"dataframe\">\n",
              "  <thead>\n",
              "    <tr style=\"text-align: right;\">\n",
              "      <th></th>\n",
              "      <th>question</th>\n",
              "      <th>answer</th>\n",
              "      <th>question_en</th>\n",
              "      <th>answer_en</th>\n",
              "    </tr>\n",
              "  </thead>\n",
              "  <tbody>\n",
              "    <tr>\n",
              "      <th>0</th>\n",
              "      <td>شرکت فولاد مبارکه در کجا واقع شده است</td>\n",
              "      <td>Title: شرکت فولاد مبارکه اصفهان\\nShort Answer:...</td>\n",
              "      <td>Where is Mobarake Steel Company located?</td>\n",
              "      <td>Title: Isfahan Mobarakeh Steel Company\\nShort ...</td>\n",
              "    </tr>\n",
              "    <tr>\n",
              "      <th>1</th>\n",
              "      <td>فولاد مبارکه چند بار برنده جایزه شرکت دانشی را...</td>\n",
              "      <td>Title: شرکت فولاد مبارکه اصفهان\\nShort Answer:...</td>\n",
              "      <td>How many times has Mobarakeh Steel won the pri...</td>\n",
              "      <td>Title: Isfahan Mobarakeh Steel Company\\nShort ...</td>\n",
              "    </tr>\n",
              "    <tr>\n",
              "      <th>2</th>\n",
              "      <td>شرکت فولاد مبارکه در سال ۱۳۹۱ چه جایزه ای برد؟</td>\n",
              "      <td>Title: شرکت فولاد مبارکه اصفهان\\nShort Answer:...</td>\n",
              "      <td>What award did Mobarake Steel Company win in 2...</td>\n",
              "      <td>Title: Isfahan Mobarakeh Steel Company\\nShort ...</td>\n",
              "    </tr>\n",
              "    <tr>\n",
              "      <th>3</th>\n",
              "      <td>بزرگ ترین مجموعه تولید فولاد ایران چیست؟</td>\n",
              "      <td>Title: شرکت فولاد مبارکه اصفهان\\nShort Answer:...</td>\n",
              "      <td>What is the largest steel production complex i...</td>\n",
              "      <td>Title: Isfahan Mobarakeh Steel Company\\nShort ...</td>\n",
              "    </tr>\n",
              "    <tr>\n",
              "      <th>4</th>\n",
              "      <td>فولاد مبارکه در چه سالی احداث شد؟</td>\n",
              "      <td>Title: شرکت فولاد مبارکه اصفهان\\nShort Answer:...</td>\n",
              "      <td>In what year was Mobarake Steel built?</td>\n",
              "      <td>Title: Isfahan Mobarakeh Steel Company\\nShort ...</td>\n",
              "    </tr>\n",
              "    <tr>\n",
              "      <th>...</th>\n",
              "      <td>...</td>\n",
              "      <td>...</td>\n",
              "      <td>...</td>\n",
              "      <td>...</td>\n",
              "    </tr>\n",
              "    <tr>\n",
              "      <th>9003</th>\n",
              "      <td>همهٔ نخستیان به جز کدام موجود دارد شارب هستند؟</td>\n",
              "      <td>Title: شارب\\nShort Answer: انسان\\nLong Answer:...</td>\n",
              "      <td>All primates are drinkers except which one?</td>\n",
              "      <td>Title: Drink\\nShort Answer: Man\\nLong Answer: ...</td>\n",
              "    </tr>\n",
              "    <tr>\n",
              "      <th>9004</th>\n",
              "      <td>شارب را می توان در کدام موجودات پیدا کرد؟</td>\n",
              "      <td>Title: شارب\\nShort Answer: پستاندارانی چون سگ،...</td>\n",
              "      <td>Sharb can be found in which creatures?</td>\n",
              "      <td>Title: Drink\\nShort Answer: Mammals such as do...</td>\n",
              "    </tr>\n",
              "    <tr>\n",
              "      <th>9005</th>\n",
              "      <td>عملکرد شارب در جانوران بی مهره چه گونه است؟</td>\n",
              "      <td>Title: شارب\\nShort Answer: نامشخص\\nLong Answer...</td>\n",
              "      <td>What is the function of drinking in invertebra...</td>\n",
              "      <td>Title: Drink\\nShort Answer: Uncertain\\nLong An...</td>\n",
              "    </tr>\n",
              "    <tr>\n",
              "      <th>9006</th>\n",
              "      <td>چرا شارب در بعضی هز جانوران خیلی مهم نیست؟</td>\n",
              "      <td>Title: شارب\\nShort Answer: نامشخص\\nLong Answer...</td>\n",
              "      <td>Why is wine not very important in some animals?</td>\n",
              "      <td>Title: Drink\\nShort Answer: Uncertain\\nLong An...</td>\n",
              "    </tr>\n",
              "    <tr>\n",
              "      <th>9007</th>\n",
              "      <td>سگ با داشتن شارب چه کارهایی میتواند انجام دهد؟</td>\n",
              "      <td>Title: شارب\\nShort Answer: نامشخص\\nLong Answer...</td>\n",
              "      <td>What can a dog do with a drink?</td>\n",
              "      <td>Title: Drink\\nShort Answer: Uncertain\\nLong An...</td>\n",
              "    </tr>\n",
              "  </tbody>\n",
              "</table>\n",
              "<p>9008 rows × 4 columns</p>\n",
              "</div>\n",
              "    <div class=\"colab-df-buttons\">\n",
              "\n",
              "  <div class=\"colab-df-container\">\n",
              "    <button class=\"colab-df-convert\" onclick=\"convertToInteractive('df-d984b2aa-74b1-495a-b1d1-3ddab3d693e9')\"\n",
              "            title=\"Convert this dataframe to an interactive table.\"\n",
              "            style=\"display:none;\">\n",
              "\n",
              "  <svg xmlns=\"http://www.w3.org/2000/svg\" height=\"24px\" viewBox=\"0 -960 960 960\">\n",
              "    <path d=\"M120-120v-720h720v720H120Zm60-500h600v-160H180v160Zm220 220h160v-160H400v160Zm0 220h160v-160H400v160ZM180-400h160v-160H180v160Zm440 0h160v-160H620v160ZM180-180h160v-160H180v160Zm440 0h160v-160H620v160Z\"/>\n",
              "  </svg>\n",
              "    </button>\n",
              "\n",
              "  <style>\n",
              "    .colab-df-container {\n",
              "      display:flex;\n",
              "      gap: 12px;\n",
              "    }\n",
              "\n",
              "    .colab-df-convert {\n",
              "      background-color: #E8F0FE;\n",
              "      border: none;\n",
              "      border-radius: 50%;\n",
              "      cursor: pointer;\n",
              "      display: none;\n",
              "      fill: #1967D2;\n",
              "      height: 32px;\n",
              "      padding: 0 0 0 0;\n",
              "      width: 32px;\n",
              "    }\n",
              "\n",
              "    .colab-df-convert:hover {\n",
              "      background-color: #E2EBFA;\n",
              "      box-shadow: 0px 1px 2px rgba(60, 64, 67, 0.3), 0px 1px 3px 1px rgba(60, 64, 67, 0.15);\n",
              "      fill: #174EA6;\n",
              "    }\n",
              "\n",
              "    .colab-df-buttons div {\n",
              "      margin-bottom: 4px;\n",
              "    }\n",
              "\n",
              "    [theme=dark] .colab-df-convert {\n",
              "      background-color: #3B4455;\n",
              "      fill: #D2E3FC;\n",
              "    }\n",
              "\n",
              "    [theme=dark] .colab-df-convert:hover {\n",
              "      background-color: #434B5C;\n",
              "      box-shadow: 0px 1px 3px 1px rgba(0, 0, 0, 0.15);\n",
              "      filter: drop-shadow(0px 1px 2px rgba(0, 0, 0, 0.3));\n",
              "      fill: #FFFFFF;\n",
              "    }\n",
              "  </style>\n",
              "\n",
              "    <script>\n",
              "      const buttonEl =\n",
              "        document.querySelector('#df-d984b2aa-74b1-495a-b1d1-3ddab3d693e9 button.colab-df-convert');\n",
              "      buttonEl.style.display =\n",
              "        google.colab.kernel.accessAllowed ? 'block' : 'none';\n",
              "\n",
              "      async function convertToInteractive(key) {\n",
              "        const element = document.querySelector('#df-d984b2aa-74b1-495a-b1d1-3ddab3d693e9');\n",
              "        const dataTable =\n",
              "          await google.colab.kernel.invokeFunction('convertToInteractive',\n",
              "                                                    [key], {});\n",
              "        if (!dataTable) return;\n",
              "\n",
              "        const docLinkHtml = 'Like what you see? Visit the ' +\n",
              "          '<a target=\"_blank\" href=https://colab.research.google.com/notebooks/data_table.ipynb>data table notebook</a>'\n",
              "          + ' to learn more about interactive tables.';\n",
              "        element.innerHTML = '';\n",
              "        dataTable['output_type'] = 'display_data';\n",
              "        await google.colab.output.renderOutput(dataTable, element);\n",
              "        const docLink = document.createElement('div');\n",
              "        docLink.innerHTML = docLinkHtml;\n",
              "        element.appendChild(docLink);\n",
              "      }\n",
              "    </script>\n",
              "  </div>\n",
              "\n",
              "\n",
              "<div id=\"df-78c7875c-50a8-4ea4-a402-869c784a493d\">\n",
              "  <button class=\"colab-df-quickchart\" onclick=\"quickchart('df-78c7875c-50a8-4ea4-a402-869c784a493d')\"\n",
              "            title=\"Suggest charts\"\n",
              "            style=\"display:none;\">\n",
              "\n",
              "<svg xmlns=\"http://www.w3.org/2000/svg\" height=\"24px\"viewBox=\"0 0 24 24\"\n",
              "     width=\"24px\">\n",
              "    <g>\n",
              "        <path d=\"M19 3H5c-1.1 0-2 .9-2 2v14c0 1.1.9 2 2 2h14c1.1 0 2-.9 2-2V5c0-1.1-.9-2-2-2zM9 17H7v-7h2v7zm4 0h-2V7h2v10zm4 0h-2v-4h2v4z\"/>\n",
              "    </g>\n",
              "</svg>\n",
              "  </button>\n",
              "\n",
              "<style>\n",
              "  .colab-df-quickchart {\n",
              "      --bg-color: #E8F0FE;\n",
              "      --fill-color: #1967D2;\n",
              "      --hover-bg-color: #E2EBFA;\n",
              "      --hover-fill-color: #174EA6;\n",
              "      --disabled-fill-color: #AAA;\n",
              "      --disabled-bg-color: #DDD;\n",
              "  }\n",
              "\n",
              "  [theme=dark] .colab-df-quickchart {\n",
              "      --bg-color: #3B4455;\n",
              "      --fill-color: #D2E3FC;\n",
              "      --hover-bg-color: #434B5C;\n",
              "      --hover-fill-color: #FFFFFF;\n",
              "      --disabled-bg-color: #3B4455;\n",
              "      --disabled-fill-color: #666;\n",
              "  }\n",
              "\n",
              "  .colab-df-quickchart {\n",
              "    background-color: var(--bg-color);\n",
              "    border: none;\n",
              "    border-radius: 50%;\n",
              "    cursor: pointer;\n",
              "    display: none;\n",
              "    fill: var(--fill-color);\n",
              "    height: 32px;\n",
              "    padding: 0;\n",
              "    width: 32px;\n",
              "  }\n",
              "\n",
              "  .colab-df-quickchart:hover {\n",
              "    background-color: var(--hover-bg-color);\n",
              "    box-shadow: 0 1px 2px rgba(60, 64, 67, 0.3), 0 1px 3px 1px rgba(60, 64, 67, 0.15);\n",
              "    fill: var(--button-hover-fill-color);\n",
              "  }\n",
              "\n",
              "  .colab-df-quickchart-complete:disabled,\n",
              "  .colab-df-quickchart-complete:disabled:hover {\n",
              "    background-color: var(--disabled-bg-color);\n",
              "    fill: var(--disabled-fill-color);\n",
              "    box-shadow: none;\n",
              "  }\n",
              "\n",
              "  .colab-df-spinner {\n",
              "    border: 2px solid var(--fill-color);\n",
              "    border-color: transparent;\n",
              "    border-bottom-color: var(--fill-color);\n",
              "    animation:\n",
              "      spin 1s steps(1) infinite;\n",
              "  }\n",
              "\n",
              "  @keyframes spin {\n",
              "    0% {\n",
              "      border-color: transparent;\n",
              "      border-bottom-color: var(--fill-color);\n",
              "      border-left-color: var(--fill-color);\n",
              "    }\n",
              "    20% {\n",
              "      border-color: transparent;\n",
              "      border-left-color: var(--fill-color);\n",
              "      border-top-color: var(--fill-color);\n",
              "    }\n",
              "    30% {\n",
              "      border-color: transparent;\n",
              "      border-left-color: var(--fill-color);\n",
              "      border-top-color: var(--fill-color);\n",
              "      border-right-color: var(--fill-color);\n",
              "    }\n",
              "    40% {\n",
              "      border-color: transparent;\n",
              "      border-right-color: var(--fill-color);\n",
              "      border-top-color: var(--fill-color);\n",
              "    }\n",
              "    60% {\n",
              "      border-color: transparent;\n",
              "      border-right-color: var(--fill-color);\n",
              "    }\n",
              "    80% {\n",
              "      border-color: transparent;\n",
              "      border-right-color: var(--fill-color);\n",
              "      border-bottom-color: var(--fill-color);\n",
              "    }\n",
              "    90% {\n",
              "      border-color: transparent;\n",
              "      border-bottom-color: var(--fill-color);\n",
              "    }\n",
              "  }\n",
              "</style>\n",
              "\n",
              "  <script>\n",
              "    async function quickchart(key) {\n",
              "      const quickchartButtonEl =\n",
              "        document.querySelector('#' + key + ' button');\n",
              "      quickchartButtonEl.disabled = true;  // To prevent multiple clicks.\n",
              "      quickchartButtonEl.classList.add('colab-df-spinner');\n",
              "      try {\n",
              "        const charts = await google.colab.kernel.invokeFunction(\n",
              "            'suggestCharts', [key], {});\n",
              "      } catch (error) {\n",
              "        console.error('Error during call to suggestCharts:', error);\n",
              "      }\n",
              "      quickchartButtonEl.classList.remove('colab-df-spinner');\n",
              "      quickchartButtonEl.classList.add('colab-df-quickchart-complete');\n",
              "    }\n",
              "    (() => {\n",
              "      let quickchartButtonEl =\n",
              "        document.querySelector('#df-78c7875c-50a8-4ea4-a402-869c784a493d button');\n",
              "      quickchartButtonEl.style.display =\n",
              "        google.colab.kernel.accessAllowed ? 'block' : 'none';\n",
              "    })();\n",
              "  </script>\n",
              "</div>\n",
              "\n",
              "  <div id=\"id_7bd98a4a-2ced-4295-9be9-6e502699f1a1\">\n",
              "    <style>\n",
              "      .colab-df-generate {\n",
              "        background-color: #E8F0FE;\n",
              "        border: none;\n",
              "        border-radius: 50%;\n",
              "        cursor: pointer;\n",
              "        display: none;\n",
              "        fill: #1967D2;\n",
              "        height: 32px;\n",
              "        padding: 0 0 0 0;\n",
              "        width: 32px;\n",
              "      }\n",
              "\n",
              "      .colab-df-generate:hover {\n",
              "        background-color: #E2EBFA;\n",
              "        box-shadow: 0px 1px 2px rgba(60, 64, 67, 0.3), 0px 1px 3px 1px rgba(60, 64, 67, 0.15);\n",
              "        fill: #174EA6;\n",
              "      }\n",
              "\n",
              "      [theme=dark] .colab-df-generate {\n",
              "        background-color: #3B4455;\n",
              "        fill: #D2E3FC;\n",
              "      }\n",
              "\n",
              "      [theme=dark] .colab-df-generate:hover {\n",
              "        background-color: #434B5C;\n",
              "        box-shadow: 0px 1px 3px 1px rgba(0, 0, 0, 0.15);\n",
              "        filter: drop-shadow(0px 1px 2px rgba(0, 0, 0, 0.3));\n",
              "        fill: #FFFFFF;\n",
              "      }\n",
              "    </style>\n",
              "    <button class=\"colab-df-generate\" onclick=\"generateWithVariable('df_train')\"\n",
              "            title=\"Generate code using this dataframe.\"\n",
              "            style=\"display:none;\">\n",
              "\n",
              "  <svg xmlns=\"http://www.w3.org/2000/svg\" height=\"24px\"viewBox=\"0 0 24 24\"\n",
              "       width=\"24px\">\n",
              "    <path d=\"M7,19H8.4L18.45,9,17,7.55,7,17.6ZM5,21V16.75L18.45,3.32a2,2,0,0,1,2.83,0l1.4,1.43a1.91,1.91,0,0,1,.58,1.4,1.91,1.91,0,0,1-.58,1.4L9.25,21ZM18.45,9,17,7.55Zm-12,3A5.31,5.31,0,0,0,4.9,8.1,5.31,5.31,0,0,0,1,6.5,5.31,5.31,0,0,0,4.9,4.9,5.31,5.31,0,0,0,6.5,1,5.31,5.31,0,0,0,8.1,4.9,5.31,5.31,0,0,0,12,6.5,5.46,5.46,0,0,0,6.5,12Z\"/>\n",
              "  </svg>\n",
              "    </button>\n",
              "    <script>\n",
              "      (() => {\n",
              "      const buttonEl =\n",
              "        document.querySelector('#id_7bd98a4a-2ced-4295-9be9-6e502699f1a1 button.colab-df-generate');\n",
              "      buttonEl.style.display =\n",
              "        google.colab.kernel.accessAllowed ? 'block' : 'none';\n",
              "\n",
              "      buttonEl.onclick = () => {\n",
              "        google.colab.notebook.generateWithVariable('df_train');\n",
              "      }\n",
              "      })();\n",
              "    </script>\n",
              "  </div>\n",
              "\n",
              "    </div>\n",
              "  </div>\n"
            ],
            "text/plain": [
              "                                               question  \\\n",
              "0                 شرکت فولاد مبارکه در کجا واقع شده است   \n",
              "1     فولاد مبارکه چند بار برنده جایزه شرکت دانشی را...   \n",
              "2        شرکت فولاد مبارکه در سال ۱۳۹۱ چه جایزه ای برد؟   \n",
              "3              بزرگ ترین مجموعه تولید فولاد ایران چیست؟   \n",
              "4                     فولاد مبارکه در چه سالی احداث شد؟   \n",
              "...                                                 ...   \n",
              "9003     همهٔ نخستیان به جز کدام موجود دارد شارب هستند؟   \n",
              "9004          شارب را می توان در کدام موجودات پیدا کرد؟   \n",
              "9005        عملکرد شارب در جانوران بی مهره چه گونه است؟   \n",
              "9006         چرا شارب در بعضی هز جانوران خیلی مهم نیست؟   \n",
              "9007     سگ با داشتن شارب چه کارهایی میتواند انجام دهد؟   \n",
              "\n",
              "                                                 answer  \\\n",
              "0     Title: شرکت فولاد مبارکه اصفهان\\nShort Answer:...   \n",
              "1     Title: شرکت فولاد مبارکه اصفهان\\nShort Answer:...   \n",
              "2     Title: شرکت فولاد مبارکه اصفهان\\nShort Answer:...   \n",
              "3     Title: شرکت فولاد مبارکه اصفهان\\nShort Answer:...   \n",
              "4     Title: شرکت فولاد مبارکه اصفهان\\nShort Answer:...   \n",
              "...                                                 ...   \n",
              "9003  Title: شارب\\nShort Answer: انسان\\nLong Answer:...   \n",
              "9004  Title: شارب\\nShort Answer: پستاندارانی چون سگ،...   \n",
              "9005  Title: شارب\\nShort Answer: نامشخص\\nLong Answer...   \n",
              "9006  Title: شارب\\nShort Answer: نامشخص\\nLong Answer...   \n",
              "9007  Title: شارب\\nShort Answer: نامشخص\\nLong Answer...   \n",
              "\n",
              "                                            question_en  \\\n",
              "0              Where is Mobarake Steel Company located?   \n",
              "1     How many times has Mobarakeh Steel won the pri...   \n",
              "2     What award did Mobarake Steel Company win in 2...   \n",
              "3     What is the largest steel production complex i...   \n",
              "4                In what year was Mobarake Steel built?   \n",
              "...                                                 ...   \n",
              "9003        All primates are drinkers except which one?   \n",
              "9004             Sharb can be found in which creatures?   \n",
              "9005  What is the function of drinking in invertebra...   \n",
              "9006    Why is wine not very important in some animals?   \n",
              "9007                    What can a dog do with a drink?   \n",
              "\n",
              "                                              answer_en  \n",
              "0     Title: Isfahan Mobarakeh Steel Company\\nShort ...  \n",
              "1     Title: Isfahan Mobarakeh Steel Company\\nShort ...  \n",
              "2     Title: Isfahan Mobarakeh Steel Company\\nShort ...  \n",
              "3     Title: Isfahan Mobarakeh Steel Company\\nShort ...  \n",
              "4     Title: Isfahan Mobarakeh Steel Company\\nShort ...  \n",
              "...                                                 ...  \n",
              "9003  Title: Drink\\nShort Answer: Man\\nLong Answer: ...  \n",
              "9004  Title: Drink\\nShort Answer: Mammals such as do...  \n",
              "9005  Title: Drink\\nShort Answer: Uncertain\\nLong An...  \n",
              "9006  Title: Drink\\nShort Answer: Uncertain\\nLong An...  \n",
              "9007  Title: Drink\\nShort Answer: Uncertain\\nLong An...  \n",
              "\n",
              "[9008 rows x 4 columns]"
            ]
          },
          "execution_count": 14,
          "metadata": {},
          "output_type": "execute_result"
        }
      ],
      "source": [
        "df_train"
      ]
    },
    {
      "cell_type": "code",
      "execution_count": null,
      "metadata": {
        "id": "3FeCieuVUSyM"
      },
      "outputs": [],
      "source": [
        "import pickle\n",
        "\n",
        "f = open('persian_question_answering.dat', 'wb')\n",
        "pickle.dump(dataset, f)"
      ]
    },
    {
      "cell_type": "code",
      "execution_count": null,
      "metadata": {
        "colab": {
          "base_uri": "https://localhost:8080/"
        },
        "id": "_tmx_KptyySk",
        "outputId": "61c80f3c-f218-4a6f-e88e-6f401369ca6e"
      },
      "outputs": [
        {
          "data": {
            "text/plain": [
              "{'question': 'دلیل وجود نشان شیطان در لوگو باشگاه منچستر چیه؟',\n",
              " 'answer': 'Title: باشگاه فوتبال منچستر یونایتد\\nShort Answer: در دههٔ ۶۰ میلادی، به منچستر یونایتد لقب شیاطین سرخ داده شد، در آن زمان این لقب به صورت رسمی وارد برنامه\\u200cهای باشگاه شد و در دههٔ ۷۰ میلادی، نشان یک شیطان به آرم باشگاه اضافه شد\\nLong Answer: باشگاه فوتبال منچستر یونایتد یکی از باشگاه\\u200cهای حرفه\\u200cای فوتبال در لیگ برتر فوتبال انگلستان است. این باشگاه در سال ۱۸۷۸، با نام باشگاه فوتبال نیوتون هیث تأسیس شد. در سال ۱۹۰۲، نام این باشگاه به منچستر یونایتد تغییر یافت و در سال ۱۹۱۰، ورزشگاه الدترافورد به عنوان ورزشگاه خانگی این تیم انتخاب شد. منچستر یونایتد با داشتن بیشترین هوادار، باشگاه\\u200cهای هواداری و بیشترین میانگین تماشاگر برای هر بازی خانگی، پرطرفدارترین تیم جهان به حساب می\\u200cآید. این باشگاه بالغ بر ۲۰۰ باشگاه هواداری رسمی را در ۲۴ کشور دنیا اداره می\\u200cکند. باشگاه منچستر یونایتد به خاطر تورهای تابستانی خود و سفر به نقاط مختلف جهان در تعطیلات، محبوبیت ویژه\\u200cای در نزد مردم جهان دارد. نتایج یک نظرسنجی نیز در سال ۲۰۱۲ نشان می\\u200cدهد که منچستر یونایتد با ۶۵۹ میلیون هوادار در سرتاسر دنیا، پرطرفدارترین تیم فوتبال دنیاست. نتایج یک تحقیق در سال ۲۰۱۴ نشان داد که هواداران یونایتد، پرسروصداترین هواداران در لیگ برتر انگلستان هستند. در دههٔ ۶۰ میلادی، به منچستر یونایتد لقب شیاطین سرخ داده شد، در آن زمان این لقب به صورت رسمی وارد برنامه\\u200cهای باشگاه شد و در دههٔ ۷۰ میلادی، نشان یک شیطان به آرم باشگاه اضافه شد.',\n",
              " 'question_en': 'What is the reason for the presence of Satan in the Manchester club logo?',\n",
              " 'answer_en': \"Title: Manchester United Football Club\\nShort Answer: In the 1960s, Manchester United was given the nickname of the Red Devils, at that time, this nickname was officially included in the club's programs, and in the 1970s, the symbol of a devil was added to the club logo.\\nLong Answer: Manchester United football club is one of the professional football clubs in the English Premier League. This club was founded in 1878 under the name of Newton Heath Football Club. In 1902, the club's name was changed to Manchester United and in 1910, Old Trafford Stadium was chosen as the team's home stadium. Manchester United is the most popular team in the world with the most fans, fan clubs and the highest average attendance per home game. This club manages more than 200 official fan clubs in 24 countries of the world. The Manchester United club is especially popular among the people of the world because of its summer tours and travel to different parts of the world during vacations. The results of a survey in 2012 also show that Manchester United is the most popular football team in the world with 659 million fans. The results of a research in 2014 showed that United fans are the loudest fans in the English Premier League. In the 1960s, Manchester United was given the nickname of the Red Devils, at which time this nickname was officially introduced into the club's programs, and in the 1970s, a devil symbol was added to the club logo.\"}"
            ]
          },
          "execution_count": 16,
          "metadata": {},
          "output_type": "execute_result"
        }
      ],
      "source": [
        "dataset['train'][65]"
      ]
    },
    {
      "cell_type": "code",
      "execution_count": null,
      "metadata": {
        "colab": {
          "background_save": true
        },
        "id": "uzYMRZ9fP9f3"
      },
      "outputs": [],
      "source": [
        "from random import randrange\n",
        "\n",
        "\n",
        "sample = dataset['train'][randrange(len(dataset[\"train\"]))]\n",
        "print(f\"question: \\n{sample['question']}\\n---------------\")\n",
        "print(f\"title: \\n{sample['title']}\\n---------------\")\n",
        "print(f\"answer: \\n{sample['answer']}\\n---------------\")\n",
        "print(f\"context: \\n{sample['context']}\\n---------------\")"
      ]
    }
  ],
  "metadata": {
    "accelerator": "GPU",
    "colab": {
      "provenance": []
    },
    "gpuClass": "standard",
    "kernelspec": {
      "display_name": "pytorch",
      "language": "python",
      "name": "python3"
    },
    "language_info": {
      "codemirror_mode": {
        "name": "ipython",
        "version": 3
      },
      "file_extension": ".py",
      "mimetype": "text/x-python",
      "name": "python",
      "nbconvert_exporter": "python",
      "pygments_lexer": "ipython3",
      "version": "3.9.15 | packaged by conda-forge | (main, Nov 22 2022, 15:55:03) \n[GCC 10.4.0]"
    },
    "vscode": {
      "interpreter": {
        "hash": "2d58e898dde0263bc564c6968b04150abacfd33eed9b19aaa8e45c040360e146"
      }
    }
  },
  "nbformat": 4,
  "nbformat_minor": 0
}