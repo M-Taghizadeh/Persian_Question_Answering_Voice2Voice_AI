{
 "cells": [
  {
   "cell_type": "code",
   "execution_count": 1,
   "metadata": {},
   "outputs": [],
   "source": [
    "from sklearn.feature_extraction.text import TfidfVectorizer\n",
    "from sklearn.metrics.pairwise import cosine_similarity\n",
    "import pandas as pd"
   ]
  },
  {
   "cell_type": "code",
   "execution_count": 14,
   "metadata": {},
   "outputs": [],
   "source": [
    "data = pd.read_csv('C:/Users/AsusIran/Desktop/Persian_QA/01-Base-Corpus/train.csv')\n",
    "documents = data['question'] + data['title'] + ' ' + data['context'] + data['answer']\n",
    "\n",
    "# ساخت مدل TF-IDF\n",
    "tfidf_vectorizer = TfidfVectorizer()\n",
    "tfidf_matrix = tfidf_vectorizer.fit_transform(documents)"
   ]
  },
  {
   "cell_type": "code",
   "execution_count": 23,
   "metadata": {},
   "outputs": [
    {
     "name": "stdout",
     "output_type": "stream",
     "text": [
      "Best answer:   بر چالش‌های موجود در اجرای محاسبات \n",
      "Best title:  علوم رایانه\n",
      "Best context:  علوم رایانه یا علوم کامپیوتر به مجموعهٔ مطالعاتی گفته می‌شود که به زیربناهای نظری، روش‌های طراحی و ساخت و چگونگی استفاده از رایانه می‌پردازند.رشته علوم کامپیوتر را می‌توان به زیررشته‌های نظری و عملی بسیاری تقسیم کرد. بعضی از این زیررشته‌ها، نظیر نظریه پیچیدگی محاسباتی (که خواص اساسی مشکلات محاسباتی و قابل حل بودن آن‌ها را بررسی می‌کند) بسیار انتزاعی هستند، این در حالی است که زیررشته‌های دیگر مانند گرافیک کامپیوتری به بررسی کاربردهای قابل لمس تر در دنیای واقعی تأکید دارند. اکثر زیررشته‌های علوم کامپیوتر بر چالش‌های موجود در اجرای محاسبات تمرکز دارند.  اولین مؤسسهٔ علمی که عبارت داده‌شناسی را بکار برد DIKU گروه داده‌شناسی در دانشگاه کپنهاگ بوده‌است که توسط پیتر ناور در سال ۱۹۶۹ به عنوان اولین گروه داده‌شناسی بنا گذاشته شد. عبارت زیر از دانشمند معروف علم رایانه ادسخر دیکسترا نقل قول شده‌است: \"علم رایانه به همان اندازه در مورد رایانه است که نجوم در مورد تلسکوپ.\" در بسیاری از کشورهای پیشرو در زمینهٔ علوم کامپیوتر، مثل ایالات متحده آمریکا و کشورهای اروپایی، رشتهٔ علوم کامپیوتر رشتهٔ اصلی در زمینهٔ علوم و مهندسی کامپیوتر و سیستم‌های اطلاعاتی است.\n",
      "\n",
      "Best question:  تمرکز رشته های علوم کامپیوتر روی چیست؟\n",
      "Similarity:  0.3206925094752637\n"
     ]
    }
   ],
   "source": [
    "# تبدیل متن کاربر به بردار TF-IDF\n",
    "user_input = input(\"سوال خود را وارد کنید:\") # سوال کاربر\n",
    "user_tfidf = tfidf_vectorizer.transform([user_input])\n",
    "\n",
    "# محاسبه شباهت کیسه‌کلماتی با cosine similarity\n",
    "similarities = cosine_similarity(user_tfidf, tfidf_matrix)\n",
    "\n",
    "# یافتن بهترین پاسخ بر اساس شباهت\n",
    "best_match_index = similarities.argmax()\n",
    "max_similarity = similarities.argmax()\n",
    "best_answer = data['answer'][best_match_index]\n",
    "best_title = data['title'][best_match_index]\n",
    "best_context = data['context'][best_match_index]\n",
    "best_question = data['question'][best_match_index]\n",
    "\n",
    "print(\"Best answer: \", best_answer)\n",
    "print(\"Best title: \", best_title)\n",
    "print(\"Best context: \", best_context)\n",
    "print(\"Best question: \", best_question)\n",
    "print(\"Similarity: \", similarities[0][similarities.argmax()])"
   ]
  },
  {
   "cell_type": "markdown",
   "metadata": {},
   "source": [
    "اطلاعات جنگ های دفاع مقدس\n",
    "اطلاعات فرماندهان دفاع مقدس\n",
    "کل مسولین کشور لشکری و سیاسی و همه\n",
    "اطلاعات در مورد چند کشور مهم : آمریکا، اسرائیل، چین، روسیه و لبنان و غزه و اوکراین\n",
    "اطلاعات در مورد فرماندهان سپاه\n",
    "اطلاعات بابایی و لشگری\n",
    "مدافعان حرم مشهور و شهید سلیمانی"
   ]
  }
 ],
 "metadata": {
  "kernelspec": {
   "display_name": "Python 3",
   "language": "python",
   "name": "python3"
  },
  "language_info": {
   "codemirror_mode": {
    "name": "ipython",
    "version": 3
   },
   "file_extension": ".py",
   "mimetype": "text/x-python",
   "name": "python",
   "nbconvert_exporter": "python",
   "pygments_lexer": "ipython3",
   "version": "3.11.3"
  }
 },
 "nbformat": 4,
 "nbformat_minor": 2
}
