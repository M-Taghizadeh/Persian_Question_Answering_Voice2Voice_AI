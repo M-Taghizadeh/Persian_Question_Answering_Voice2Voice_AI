{
 "cells": [
  {
   "cell_type": "markdown",
   "metadata": {},
   "source": [
    "# Get User Voice Input"
   ]
  },
  {
   "cell_type": "code",
   "execution_count": 6,
   "metadata": {},
   "outputs": [
    {
     "name": "stdout",
     "output_type": "stream",
     "text": [
      "Recording...\n",
      "Finished recording.\n"
     ]
    }
   ],
   "source": [
    "import sounddevice as sd\n",
    "import soundfile as sf\n",
    "\n",
    "# تنظیمات ضبط صدا\n",
    "samplerate = 44100  # نرخ نمونه‌برداری\n",
    "duration = 5  # مدت زمان ضبط به ثانیه\n",
    "filename = 'output.wav'  # نام فایل خروجی\n",
    "\n",
    "print(\"Recording...\")\n",
    "\n",
    "# ضبط صدا\n",
    "myrecording = sd.rec(int(samplerate * duration), samplerate=samplerate, channels=1, dtype='int16')\n",
    "sd.wait()  # انتظار برای اتمام ضبط\n",
    "\n",
    "print(\"Finished recording.\")\n",
    "\n",
    "# ذخیره صدا در فایل wav\n",
    "sf.write(filename, myrecording, samplerate)"
   ]
  },
  {
   "cell_type": "markdown",
   "metadata": {},
   "source": [
    "# Speech To Text Using Vosk Model"
   ]
  },
  {
   "cell_type": "code",
   "execution_count": 7,
   "metadata": {},
   "outputs": [
    {
     "name": "stdout",
     "output_type": "stream",
     "text": [
      "در مورد کشور ایران توضیح بده\n"
     ]
    }
   ],
   "source": [
    "from vosk import Model, KaldiRecognizer, SetLogLevel\n",
    "import re\n",
    "import wave\n",
    "\n",
    "wf = wave.open(\"output.wav\", \"rb\")\n",
    "model = Model(\"vosk-model-small-fa-0.5/\")\n",
    "rec = KaldiRecognizer(model, wf.getframerate())\n",
    "\n",
    "while True:\n",
    "    data = wf.readframes(4000)\n",
    "    if len(data) == 0:\n",
    "        break\n",
    "    if rec.AcceptWaveform(data): pass \n",
    "    else: pass\n",
    "\n",
    "result = rec.FinalResult()\n",
    "pattern = r'\"text\" : \"([^\"]+)\"'\n",
    "match = re.search(pattern, result)\n",
    "if match:\n",
    "    extracted_text = match.group(1)\n",
    "    print(extracted_text)"
   ]
  }
 ],
 "metadata": {
  "kernelspec": {
   "display_name": "Python 3",
   "language": "python",
   "name": "python3"
  },
  "language_info": {
   "codemirror_mode": {
    "name": "ipython",
    "version": 3
   },
   "file_extension": ".py",
   "mimetype": "text/x-python",
   "name": "python",
   "nbconvert_exporter": "python",
   "pygments_lexer": "ipython3",
   "version": "3.11.3"
  }
 },
 "nbformat": 4,
 "nbformat_minor": 2
}
