{
  "cells": [
    {
      "cell_type": "code",
      "execution_count": 1,
      "metadata": {
        "id": "0a_CXaAI1ZY0"
      },
      "outputs": [],
      "source": [
        "!pip install pydub requests"
      ]
    },
    {
      "cell_type": "markdown",
      "metadata": {
        "id": "sz1ljvaQ1xxu"
      },
      "source": [
        "### Web service URL: https://ttsmaker.com/developer-api-docs"
      ]
    },
    {
      "cell_type": "code",
      "execution_count": 1,
      "metadata": {
        "id": "Dgq5bVW7zGff"
      },
      "outputs": [],
      "source": [
        "import requests\n",
        "import json\n",
        "\n",
        "def text_to_speech(text):\n",
        "  url = 'https://api.ttsmaker.com/v1/create-tts-order'\n",
        "  headers = {'Content-Type': 'application/json; charset=utf-8'}\n",
        "  params = {\n",
        "      'token': 'ttsmaker_demo_token',\n",
        "      'text': text,\n",
        "      'voice_id': 410002 ,\n",
        "      'audio_format': 'wav',\n",
        "      'audio_speed': 1.0,\n",
        "      'audio_volume': 0,\n",
        "      'text_paragraph_pause_time': 0,\n",
        "      'language': 'fa'\n",
        "  }\n",
        "  response = requests.post(url, headers=headers, data=json.dumps(params))\n",
        "  audio_file_url = response.json()['audio_file_url']\n",
        "  return audio_file_url"
      ]
    },
    {
      "cell_type": "code",
      "execution_count": 4,
      "metadata": {
        "colab": {
          "base_uri": "https://localhost:8080/",
          "height": 75
        },
        "id": "WTNv9rCC1OnG",
        "outputId": "190e891b-6946-49e5-85e2-5fd5a8a8d523"
      },
      "outputs": [],
      "source": [
        "import requests\n",
        "from pydub import AudioSegment\n",
        "from pydub.playback import play\n",
        "\n",
        "audio_file_url = text_to_speech('ایران با نام رسمی جمهوری اسلامی ایران، کشوری در غرب آسیا و منطقه خاورمیانه است. سرزمین ایران با ده هزار سال تاریخ و تمدن، میزبان تمدن‌های کهن متعددی چون ایلام در هزاره چهارم پیش از میلاد بوده است.')\n",
        "audio_response = requests.get(audio_file_url)\n",
        "audio_filename = \"output.wav\"\n",
        "\n",
        "# ذخیره فایل صوتی\n",
        "with open(audio_filename, 'wb') as f:\n",
        "    f.write(audio_response.content)\n",
        "\n",
        "# بارگذاری و پخش فایل صوتی\n",
        "audio = AudioSegment.from_file(audio_filename, format=\"wav\")\n",
        "play(audio)"
      ]
    },
    {
      "cell_type": "code",
      "execution_count": 23,
      "metadata": {},
      "outputs": [
        {
          "name": "stdout",
          "output_type": "stream",
          "text": [
            "{\n",
            "  \"origin\": \"37.156.156.237\"\n",
            "}\n",
            "\n"
          ]
        }
      ],
      "source": [
        "import requests\n",
        "\n",
        "# تعریف پروکسی\n",
        "proxy = {\n",
        "    \"http\": \"188.121.128.246:10186\",\n",
        "}\n",
        "\n",
        "# درخواست با استفاده از پروکسی\n",
        "response = requests.get('https://httpbin.org/ip', proxies=proxy)\n",
        "print(response.text)"
      ]
    }
  ],
  "metadata": {
    "colab": {
      "provenance": []
    },
    "kernelspec": {
      "display_name": "Python 3",
      "name": "python3"
    },
    "language_info": {
      "codemirror_mode": {
        "name": "ipython",
        "version": 3
      },
      "file_extension": ".py",
      "mimetype": "text/x-python",
      "name": "python",
      "nbconvert_exporter": "python",
      "pygments_lexer": "ipython3",
      "version": "3.11.3"
    }
  },
  "nbformat": 4,
  "nbformat_minor": 0
}
