{
 "cells": [
  {
   "cell_type": "code",
   "execution_count": 2,
   "metadata": {},
   "outputs": [
    {
     "name": "stdout",
     "output_type": "stream",
     "text": [
      "فایل صوتی با موفقیت ذخیره شد.\n"
     ]
    }
   ],
   "source": [
    "import requests\n",
    "\n",
    "# دریافت متن از ورودی\n",
    "text = \"سلام. چطور کمکتان کنم؟\"\n",
    "\n",
    "# ساخت URL برای درخواست API\n",
    "url = f\"https://tts.datacula.com/api/tts?text={text}&model_name=amir\"\n",
    "\n",
    "# تنظیم هدرهای درخواست\n",
    "headers = {\n",
    "    'accept': 'application/json'\n",
    "}\n",
    "\n",
    "# ارسال درخواست GET به API\n",
    "response = requests.get(url, headers=headers)\n",
    "\n",
    "# بررسی وضعیت پاسخ\n",
    "if response.status_code == 200:\n",
    "    # ذخیره فایل wav در صورت موفقیت‌آمیز بودن درخواست\n",
    "    with open(\"output.wav\", \"wb\") as file:\n",
    "        file.write(response.content)\n",
    "    print(\"فایل صوتی با موفقیت ذخیره شد.\")\n",
    "else:\n",
    "    print(\"خطا در درخواست API:\", response.status_code, response.text)"
   ]
  }
 ],
 "metadata": {
  "kernelspec": {
   "display_name": "Python 3",
   "language": "python",
   "name": "python3"
  },
  "language_info": {
   "codemirror_mode": {
    "name": "ipython",
    "version": 3
   },
   "file_extension": ".py",
   "mimetype": "text/x-python",
   "name": "python",
   "nbconvert_exporter": "python",
   "pygments_lexer": "ipython3",
   "version": "3.11.3"
  }
 },
 "nbformat": 4,
 "nbformat_minor": 2
}
